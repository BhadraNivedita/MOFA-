{
 "cells": [
  {
   "cell_type": "code",
   "execution_count": null,
   "id": "786bbaa1-0613-48ba-b73f-544a7048f3fe",
   "metadata": {},
   "outputs": [],
   "source": [
    "# Install and load required libraries\n",
    "if (!requireNamespace(\"BiocManager\", quietly = TRUE))\n",
    "    install.packages(\"BiocManager\")\n",
    "\n",
    "BiocManager::install(\"MOFA2\")\n",
    "BiocManager::install(\"reticulate\")\n",
    "\n"
   ]
  },
  {
   "cell_type": "code",
   "execution_count": null,
   "id": "6bed98a7-f853-4c8e-bbe9-37b363909842",
   "metadata": {},
   "outputs": [],
   "source": [
    "# Load the libraries\n",
    "library(MOFA2)\n",
    "library(reticulate)\n",
    "\n"
   ]
  },
  {
   "cell_type": "code",
   "execution_count": null,
   "id": "ede302fe-97d3-433c-adc5-4acb8994f10f",
   "metadata": {},
   "outputs": [],
   "source": [
    "# Generate synthetic RNA data\n",
    "set.seed(123)\n",
    "RNA <- matrix(rnorm(1000), nrow = 100, ncol = 10)\n",
    "rownames(RNA) <- paste0(\"Gene\", 1:100)\n",
    "colnames(RNA) <- paste0(\"Sample\", 1:10)\n",
    "\n",
    "# Generate synthetic Methylation data\n",
    "Methylation <- matrix(rnorm(1000), nrow = 100, ncol = 10)\n",
    "rownames(Methylation) <- paste0(\"CpG\", 1:100)\n",
    "colnames(Methylation) <- paste0(\"Sample\", 1:10)\n",
    "\n",
    "# Combine the data into a list\n",
    "data <- list(\n",
    "  \"RNA\" = RNA,\n",
    "  \"Methylation\" = Methylation\n",
    ")\n"
   ]
  },
  {
   "cell_type": "code",
   "execution_count": null,
   "id": "72ca9da8-bd53-43b5-ab3d-5fd0490bdf19",
   "metadata": {},
   "outputs": [],
   "source": [
    "length(data)"
   ]
  },
  {
   "cell_type": "code",
   "execution_count": null,
   "id": "38c3d1a8-0f46-4e73-8e76-24a93758a88c",
   "metadata": {},
   "outputs": [],
   "source": [
    "# Create MOFA object\n",
    "MOFAobject <- create_mofa(data)\n",
    "\n",
    "# Print the MOFA object\n",
    "print(MOFAobject)\n",
    "\n"
   ]
  },
  {
   "cell_type": "code",
   "execution_count": null,
   "id": "bf45737a-7737-4ce6-b4e2-2116fa17d3c7",
   "metadata": {},
   "outputs": [],
   "source": [
    "# Define the data options\n",
    "data_opts <- get_default_data_options(MOFAobject)\n",
    "\n",
    "# Define the model options\n",
    "model_opts <- get_default_model_options(MOFAobject)\n",
    "\n",
    "# Define the training options\n",
    "train_opts <- get_default_training_options(MOFAobject)\n",
    "train_opts$seed <- 42\n",
    "\n"
   ]
  },
  {
   "cell_type": "code",
   "execution_count": null,
   "id": "4a9f3ebe-8d91-469d-8c63-15d39ceeb9b7",
   "metadata": {},
   "outputs": [],
   "source": [
    "data_opts"
   ]
  },
  {
   "cell_type": "code",
   "execution_count": null,
   "id": "97ba7033-df51-42f0-b63f-530bd5419911",
   "metadata": {},
   "outputs": [],
   "source": [
    "# Prepare the MOFA object\n",
    "MOFAobject <- prepare_mofa(MOFAobject, \n",
    "                           data_options = data_opts, \n",
    "                           model_options = model_opts, \n",
    "                           training_options = train_opts)\n",
    "\n"
   ]
  },
  {
   "cell_type": "code",
   "execution_count": null,
   "id": "031081ec-9b5c-4e96-91d2-285f6d505fa1",
   "metadata": {},
   "outputs": [],
   "source": [
    "# Train the MOFA model\n",
    "MOFAobject <- run_mofa(MOFAobject)\n",
    "\n"
   ]
  },
  {
   "cell_type": "code",
   "execution_count": null,
   "id": "228ba75a-d8ba-406c-b204-c294e231f72e",
   "metadata": {},
   "outputs": [],
   "source": [
    "# Plot the variance explained by each factor\n",
    "plot_variance_explained(MOFAobject)\n",
    "\n"
   ]
  },
  {
   "cell_type": "code",
   "execution_count": null,
   "id": "da6e7f7e-e7c3-4ff7-9c4d-c0db8c97f98b",
   "metadata": {},
   "outputs": [],
   "source": [
    "# Plot the factors\n",
    "plot_factors(MOFAobject)\n"
   ]
  },
  {
   "cell_type": "code",
   "execution_count": null,
   "id": "41c11f45-f696-4983-b315-2d89eb64e4de",
   "metadata": {},
   "outputs": [],
   "source": [
    "\n",
    "# Plot the loadings for the first factor\n",
    "plot_weights(MOFAobject, view = \"RNA\", factor = 1)"
   ]
  },
  {
   "cell_type": "code",
   "execution_count": 2,
   "id": "9a33d058-bb07-41d6-b122-59b2ee4eadef",
   "metadata": {},
   "outputs": [],
   "source": [
    "\n",
    "\n",
    "# Load the libraries\n",
    "library(MOFA2)\n",
    "library(reticulate)\n",
    "# Connect to the mofapy2 package using basilisk\n",
    "options(MOFA2_use_basilisk = TRUE)\n",
    "\n",
    "# Generate synthetic RNA data\n",
    "set.seed(123)\n",
    "RNA <- matrix(rnorm(1000), nrow = 100, ncol = 10)\n",
    "rownames(RNA) <- paste0(\"Gene\", 1:100)\n",
    "colnames(RNA) <- paste0(\"Sample\", 1:10)\n",
    "\n",
    "# Generate synthetic Methylation data\n",
    "Methylation <- matrix(rnorm(1000), nrow = 100, ncol = 10)\n",
    "rownames(Methylation) <- paste0(\"CpG\", 1:100)\n",
    "colnames(Methylation) <- paste0(\"Sample\", 1:10)\n",
    "\n",
    "# Generate synthetic Proteomics data\n",
    "Proteomics <- matrix(rnorm(1000), nrow = 100, ncol = 10)\n",
    "rownames(Proteomics) <- paste0(\"Protein\", 1:100)\n",
    "colnames(Proteomics) <- paste0(\"Sample\", 1:10)\n",
    "\n",
    "# Combine the data into a list\n",
    "data <- list(\n",
    "  \"RNA\" = RNA,\n",
    "  \"Methylation\" = Methylation,\n",
    "  \"Proteomics\" = Proteomics\n",
    ")\n",
    "\n"
   ]
  },
  {
   "cell_type": "code",
   "execution_count": 3,
   "id": "4d7a534f-128f-4851-88b5-218bd1aabcfd",
   "metadata": {},
   "outputs": [
    {
     "name": "stderr",
     "output_type": "stream",
     "text": [
      "Creating MOFA object from a list of matrices (features as rows, sample as columns)...\n",
      "\n",
      "\n"
     ]
    },
    {
     "name": "stdout",
     "output_type": "stream",
     "text": [
      "Untrained MOFA model with the following characteristics: \n",
      " Number of views: 3 \n",
      " Views names: RNA Methylation Proteomics \n",
      " Number of features (per view): 100 100 100 \n",
      " Number of groups: 1 \n",
      " Groups names: group1 \n",
      " Number of samples (per group): 10 \n",
      " \n"
     ]
    }
   ],
   "source": [
    "# Create MOFA object\n",
    "MOFAobject <- create_mofa(data)\n",
    "\n",
    "# Print the MOFA object\n",
    "print(MOFAobject)\n",
    "\n"
   ]
  },
  {
   "cell_type": "code",
   "execution_count": 4,
   "id": "f481a13c-71b3-426f-a189-84fcd9d18e76",
   "metadata": {},
   "outputs": [],
   "source": [
    "# Define the data options\n",
    "data_opts <- get_default_data_options(MOFAobject)\n",
    "\n",
    "# Define the model options, reducing the number of factors to 2\n",
    "model_opts <- get_default_model_options(MOFAobject)\n",
    "model_opts$num_factors <- 2\n",
    "\n",
    "# Define the training options\n",
    "train_opts <- get_default_training_options(MOFAobject)\n",
    "train_opts$seed <- 42\n",
    "\n"
   ]
  },
  {
   "cell_type": "code",
   "execution_count": 5,
   "id": "c28c7e2c-c52e-4698-9869-39bd574a38d0",
   "metadata": {},
   "outputs": [
    {
     "name": "stderr",
     "output_type": "stream",
     "text": [
      "Checking data options...\n",
      "\n",
      "Checking training options...\n",
      "\n",
      "Checking model options...\n",
      "\n"
     ]
    }
   ],
   "source": [
    "# Prepare the MOFA object\n",
    "MOFAobject <- prepare_mofa(MOFAobject, \n",
    "                           data_options = data_opts, \n",
    "                           model_options = model_opts, \n",
    "                           training_options = train_opts)\n",
    "\n"
   ]
  },
  {
   "cell_type": "code",
   "execution_count": 6,
   "id": "14feb601-c5cb-4b7d-8f2c-c1de835754e0",
   "metadata": {},
   "outputs": [],
   "source": [
    "# Specify an output filename for the trained model\n",
    "output_file <- \"trained_mofa_model.hdf5\"\n",
    "\n"
   ]
  },
  {
   "cell_type": "code",
   "execution_count": 8,
   "id": "f54ccf2d-3488-47f9-be8d-dd0db48bee74",
   "metadata": {},
   "outputs": [
    {
     "name": "stderr",
     "output_type": "stream",
     "text": [
      "Connecting to the mofapy2 package using basilisk. \n",
      "    Set 'use_basilisk' to FALSE if you prefer to manually set the python binary using 'reticulate'.\n",
      "\n",
      "+ /Users/nbhadra/Library/Caches/org.R-project.R/R/basilisk/1.14.3/0/bin/conda create --yes --prefix /Users/nbhadra/Library/Caches/org.R-project.R/R/basilisk/1.14.3/MOFA2/1.12.1/mofa_env 'python=3.10.5' --quiet -c conda-forge\n",
      "\n",
      "+ /Users/nbhadra/Library/Caches/org.R-project.R/R/basilisk/1.14.3/0/bin/conda install --yes --prefix /Users/nbhadra/Library/Caches/org.R-project.R/R/basilisk/1.14.3/MOFA2/1.12.1/mofa_env 'python=3.10.5' -c conda-forge\n",
      "\n",
      "+ /Users/nbhadra/Library/Caches/org.R-project.R/R/basilisk/1.14.3/0/bin/conda install --yes --prefix /Users/nbhadra/Library/Caches/org.R-project.R/R/basilisk/1.14.3/MOFA2/1.12.1/mofa_env -c conda-forge 'python=3.10.5' 'python=3.10.5' 'numpy=1.23.1' 'scipy=1.8.1' 'pandas=1.4.3' 'h5py=3.6.0' 'scikit-learn=1.1.1' 'dtw-python=1.2.2'\n",
      "\n"
     ]
    }
   ],
   "source": [
    "# Train the MOFA model with the specified output filename\n",
    "MOFAobject <- run_mofa(MOFAobject, outfile = output_file,use_basilisk = TRUE)\n",
    "\n"
   ]
  },
  {
   "cell_type": "code",
   "execution_count": null,
   "id": "6e7478ff-b520-4f72-8e79-e8470f0c81fb",
   "metadata": {},
   "outputs": [],
   "source": [
    "\n",
    "# Plot the variance explained by each factor\n",
    "plot_variance_explained(MOFAobject)\n",
    "\n"
   ]
  },
  {
   "cell_type": "code",
   "execution_count": null,
   "id": "332f8834-ee6c-46ed-a38e-ddde61508208",
   "metadata": {},
   "outputs": [],
   "source": [
    "# Plot the factors\n",
    "plot_factors(MOFAobject)\n",
    "\n"
   ]
  },
  {
   "cell_type": "code",
   "execution_count": null,
   "id": "06e90e2b-e387-4c5a-a72e-3c35373ebf79",
   "metadata": {},
   "outputs": [],
   "source": [
    "# Plot the loadings for the first factor\n",
    "plot_weights(MOFAobject, view = \"RNA\", factor = 1)\n"
   ]
  },
  {
   "cell_type": "code",
   "execution_count": null,
   "id": "47c97244-56c6-455e-8713-fc2f1310e183",
   "metadata": {},
   "outputs": [],
   "source": [
    "plot_weights(MOFAobject, view = \"Methylation\", factor = 1)\n",
    "\n"
   ]
  },
  {
   "cell_type": "code",
   "execution_count": null,
   "id": "a253f672-c0a2-4635-a5a4-c872482e114c",
   "metadata": {},
   "outputs": [],
   "source": [
    "plot_weights(MOFAobject, view = \"Proteomics\", factor = 1)\n"
   ]
  },
  {
   "cell_type": "code",
   "execution_count": null,
   "id": "2f087c08-ae69-496b-862e-0a35ead4b523",
   "metadata": {},
   "outputs": [],
   "source": [
    "#https://rdrr.io/github/bioFAM/MOFA2/man/run_mofa.html"
   ]
  }
 ],
 "metadata": {
  "kernelspec": {
   "display_name": "R",
   "language": "R",
   "name": "ir"
  },
  "language_info": {
   "codemirror_mode": "r",
   "file_extension": ".r",
   "mimetype": "text/x-r-source",
   "name": "R",
   "pygments_lexer": "r",
   "version": "4.3.2"
  }
 },
 "nbformat": 4,
 "nbformat_minor": 5
}
